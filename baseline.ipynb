{
 "cells": [
  {
   "cell_type": "code",
   "execution_count": 1,
   "metadata": {},
   "outputs": [],
   "source": [
    "using Pkg; haskey(Pkg.installed(),\"Knet\") || Pkg.add(\"Knet\")\n",
    "using Knet"
   ]
  },
  {
   "cell_type": "code",
   "execution_count": 2,
   "metadata": {},
   "outputs": [
    {
     "name": "stderr",
     "output_type": "stream",
     "text": [
      "  % Total    % Received % Xferd  Average Speed   Time    Time     Time  Current\n",
      "                                 Dload  Upload   Total   Spent    Left  Speed\n",
      "100  615M  100  615M    0     0  2259k      0  0:04:38  0:04:38 --:--:-- 1528k\n",
      "  % Total    % Received % Xferd  Average Speed   Time    Time     Time  Current\n",
      "                                 Dload  Upload   Total   Spent    Left  Speed\n",
      "100  684M  100  684M    0     0  3722k      0  0:03:08  0:03:08 --:--:-- 13.2M\n"
     ]
    },
    {
     "data": {
      "text/plain": [
       "\"/tmp/juliayYSJuV\""
      ]
     },
     "execution_count": 2,
     "metadata": {},
     "output_type": "execute_result"
    }
   ],
   "source": [
    "file1 = download(\"https://nlp.stanford.edu/projects/nmt/data/wmt14.en-de/train.en\")\n",
    "file2 = download(\"https://nlp.stanford.edu/projects/nmt/data/wmt14.en-de/train.de\")"
   ]
  },
  {
   "cell_type": "code",
   "execution_count": 3,
   "metadata": {},
   "outputs": [
    {
     "data": {
      "text/plain": [
       "4468840-element Array{String,1}:\n",
       " \"iron cement ist eine gebrauchs ##AT##-##AT## fertige Paste , die mit einem Spachtel oder den Fingern als Hohlkehle in die Formecken ( Winkel ) der Stahlguss -Kokille aufgetragen wird .\"                                                                                                                                               \n",
       " \"Nach der Aushärtung schützt iron cement die Kokille gegen den heissen , abrasiven Stahlguss .\"                                                                                                                                                                                                                                          \n",
       " \"feuerfester Reparaturkitt für Feuerungsanlagen , Öfen , offene Feuerstellen etc.\"                                                                                                                                                                                                                                                       \n",
       " \"Der Bau und die Reparatur der Autostraßen ...\"                                                                                                                                                                                                                                                                                          \n",
       " \"die Mitteilungen sollen den geschäftlichen kommerziellen Charakter tragen .\"                                                                                                                                                                                                                                                            \n",
       " \"der Vertrieb Ihrer Waren und Dienstleistungen durch das Postfach ##AT##-##AT## System WIRD NICHT ZUGELASSEN .\"                                                                                                                                                                                                                          \n",
       " \"die Werbeversande ( Spam ) und andere unkorrekte Informationen werden gelöscht .\"                                                                                                                                                                                                                                                       \n",
       " \"ACDSee 9 Photo Manager Organize your photos . Share your world .\"                                                                                                                                                                                                                                                                       \n",
       " \"No matter what kind of photos you take - of friends and family or artistic shots as a hobby - you need photo software that organizes your shots AND allows you to view , fix , and share them quickly and easily .\"                                                                                                                     \n",
       " \"ACDSee 9 makes organizing your photos exactly that : Quick and easy , so you can play with and share the great photos you &apos; ve got ...\"                                                                                                                                                                                            \n",
       " \"Your photo collection is growing daily . Family pictures , travel pictures , pictures of your home and garden - with so many photos to look through , how will you find and organize your best ones ?\"                                                                                                                                  \n",
       " \"ACDSee 8 Photo Manager s razor ##AT##-##AT## sharp search tools help you find your best photos , and sort them into common sense categories that make them easy to find later ...\"                                                                                                                                                      \n",
       " \"Chat in male , female , baby voice in voice chat rooms ; keep your privacy and spy voice conference .\"                                                                                                                                                                                                                                  \n",
       " ⋮                                                                                                                                                                                                                                                                                                                                        \n",
       " \"Für Afrika steht Enormes auf dem Spiel .\"                                                                                                                                                                                                                                                                                               \n",
       " \"Südafrika ist die größte Ökonomie des Kontinents und bis zur globalen Finanzkrise erlebte man 10 Jahre beständigen Wirtschaftswachstums .\"                                                                                                                                                                                              \n",
       " \"In Zeiten des Abschwungs kann sich das immense Kriminalitätsproblem des Landes nur verschärfen . Das gilt auch für die Arbeitslosigkeit , die im Bereich der offiziellen Wirtschaft bereits über 20 Prozent liegt .\"                                                                                                                    \n",
       " \"Zuma weiß um die Dringlichkeit der Situation .\"                                                                                                                                                                                                                                                                                         \n",
       " \"Immerhin ist er 67 Jahre alt und wird wahrscheinlich nur eine Amtszeit dienen . „ Wir können uns keine Zeitverschwendung leisten “ , sagt er .\"                                                                                                                                                                                         \n",
       " \"Dem politischen Ökonomen Moeletsi Mbeki zufolge , ist Zuma im Grunde seines Herzens „ ein Konservativer “ . In diesem Sinne vertritt Zuma das Südafrika von gestern .\"                                                                                                                                                                  \n",
       " \"Er ist Mitglied einer stolzen Generation , die die Apartheid bezwang – und der anschließend ein friedlicher Übergang zu einer schwarzen Mehrheitsregierung gelang .\"                                                                                                                                                                    \n",
       " \"Das bleibt eine der größten Errungenschaften in der jüngeren Geschichte .\"                                                                                                                                                                                                                                                              \n",
       " \"Gleichzeitig scheint sich Zumas revolutionäre Generation mit der Führung Südafrikas in der nun seit 15 Jahren dauernden Ära nach der Apartheid noch immer unwohl zu fühlen .\"                                                                                                                                                           \n",
       " \"In einer Region , wo die älteren Menschen sehr verehrt werden , muss Zumas Bindung an landestypische Traditionen eine gleichwertige Offenheit gegenüber den Bedürfnissen der Jugend des Landes gegenüberstehen .\"                                                                                                                       \n",
       " \"Drei von zehn Südafrikanern sind jünger als 15 und das bedeutet , dass sie nicht einen Tag unter der Apartheid gelebt haben .\"                                                                                                                                                                                                          \n",
       " \"Irgendwie muss Zuma einen Weg finden , einerseits das Engagement seiner Generation hinsichtlich ethnischer Gerechtigkeit und nationaler Befreiung zu würdigen und andererseits den Massen , die täglich unter Klassenunterschieden leiden und sich nach materiellen Verbesserungen sehnen , mehr Mitwirkungsmöglichkeiten einzuräumen .\""
      ]
     },
     "execution_count": 3,
     "metadata": {},
     "output_type": "execute_result"
    }
   ],
   "source": [
    "train1_en = readlines(file1)\n",
    "train1_de = readlines(file2)"
   ]
  },
  {
   "cell_type": "code",
   "execution_count": 4,
   "metadata": {},
   "outputs": [
    {
     "name": "stderr",
     "output_type": "stream",
     "text": [
      "  % Total    % Received % Xferd  Average Speed   Time    Time     Time  Current\n",
      "                                 Dload  Upload   Total   Spent    Left  Speed\n",
      "100  345k  100  345k    0     0   339k      0  0:00:01  0:00:01 --:--:--  340k\n",
      "  % Total    % Received % Xferd  Average Speed   Time    Time     Time  Current\n",
      "                                 Dload  Upload   Total   Spent    Left  Speed\n",
      "100  377k  100  377k    0     0   362k      0  0:00:01  0:00:01 --:--:--  362k\n"
     ]
    },
    {
     "data": {
      "text/plain": [
       "2737-element Array{String,1}:\n",
       " \"Orlando Bloom und Miranda Kerr lieben sich noch immer\"                                                                                                                                                                                                                                                                                            \n",
       " \"Schauspieler Orlando Bloom und Model Miranda Kerr wollen künftig getrennte Wege gehen .\"                                                                                                                                                                                                                                                          \n",
       " \"In einem Interview sagte Bloom jedoch , dass er und Kerr sich noch immer lieben .\"                                                                                                                                                                                                                                                                \n",
       " \"Miranda Kerr und Orlando Bloom sind Eltern des zweijährigen Flynn .\"                                                                                                                                                                                                                                                                              \n",
       " \"Schauspieler Orlando Bloom hat sich zur Trennung von seiner Frau , Topmodel Miranda Kerr , geäußert .\"                                                                                                                                                                                                                                            \n",
       " \"In einem Interview mit US ##AT##-##AT## Journalistin Katie Couric , das am Freitag ( Ortszeit ) ausgestrahlt werden sollte , sagte Bloom , &quot; das Leben verläuft manchmal nicht genau so , wie wir es planen oder erhoffen &quot; .\"                                                                                                          \n",
       " \"Kerr und er selbst liebten sich noch immer , betonte der 36 ##AT##-##AT## Jährige .\"                                                                                                                                                                                                                                                              \n",
       " \"&quot; Wir werden uns gegenseitig unterstützen und lieben als Eltern von Flynn &quot; .\"                                                                                                                                                                                                                                                          \n",
       " \"Kerr und Bloom sind seit 2010 verheiratet , im Jahr 2011 wurde ihr Söhnchen Flynn geboren .\"                                                                                                                                                                                                                                                      \n",
       " \"Jumbo ##AT##-##AT## Hersteller streiten im Angesicht großer Bestellungen über Sitzbreite\"                                                                                                                                                                                                                                                         \n",
       " \"Zwischen führenden Flugzeugherstellern ist es zu einer Auseinandersetzung über die Breite von Sitzen in der Touristenklasse bei Langstreckenflügen gekommen , was den Ton für einen bitteren Zusammenstoß auf der Dubai Airshow diesen Monat angibt .\"                                                                                            \n",
       " \"Der Streit dreht sich um die Sitzbreite , die Passagieren bei langen Flügen in der Touristenklasse angeboten wird – nicht immer diejenigen , um die sich Fluggesellschaften am meisten bemühen , doch dieser ausgewiesene Raum stellt den Schlüssel für die Effizienzbehauptungen bei den neuesten Flugzeugen von Airbus SAS und Boeing Co. dar .\"\n",
       " \"Airbus forderte diese Woche einen Branchenstandard , der eine Sitzbreite von mindestens 46 cm ( 18 Zoll ) in der Touristenklasse vorschreibt , doch der US ##AT##-##AT## amerikanische Erzrivale Boeing sagt , das sollten die Fluggesellschaften entscheiden .\"                                                                                  \n",
       " ⋮                                                                                                                                                                                                                                                                                                                                                  \n",
       " \"Die überwiegende Mehrheit der Passagierflugzeuge sollte für den stärkeren Gebrauch elektronischer Geräte nach den neuen Richtlinien geeignet sein , sagte Huerta .\"                                                                                                                                                                               \n",
       " \"Die heutigen elektronischen Geräte geben im Allgemeinen wesentlich weniger Funkstrahlung ab als frühere Generationen .\"                                                                                                                                                                                                                           \n",
       " \"E ##AT##-##AT## Reader beispielsweise geben nur minimale Strahlung ab , wenn man umblättert .\"                                                                                                                                                                                                                                                    \n",
       " \"Doch beim Herunterladen oder Senden von Daten sind die Übertragungswerte stärker .\"                                                                                                                                                                                                                                                               \n",
       " \"Zu den Verfechtern einer Lockerung der Einschränkungen für die Gerätenutzung durch Passagiere zählt Amazon.com.\"                                                                                                                                                                                                                                  \n",
       " \"2011 luden Firmenmitarbeiter ein Passagierflugzeug voller Kindle E ##AT##-##AT## Reader und machten einen Testflug , um Probleme zu ermitteln , konnten aber keine feststellen .\"                                                                                                                                                                 \n",
       " \"Mitglieder des FAA ##AT##-##AT## Beratungskomitees äußerten gemischte Gefühle , was das Risiko bei der Nutzung von Geräten angeht .\"                                                                                                                                                                                                              \n",
       " \"Douglas Kidd vom Passagierverband National Association of Airline Passengers sagte , er sei der Ansicht , die Störung durch die Geräte sei echt , auch wenn das Risiko minimal sei .\"                                                                                                                                                             \n",
       " \"Andere Komiteemitglieder sagten , es gebe nur vereinzelte Berichte von Piloten , die für eine Störung von Flugzeugsystemen durch die Geräte sprächen , und die meisten davon seien sehr alt .\"                                                                                                                                                    \n",
       " \"Das Komitee empfahl der FAA allerdings , es Piloten zu erlauben , bei Instrumentenlandung unter schlechten Sichtverhältnissen das Abschalten der Geräte durch die Passagiere anzuordnen .\"                                                                                                                                                        \n",
       " \"Eine Gruppierung aus der Reisebranche begrüßte die Änderungen und bezeichnete sie als vernünftige Anpassung für Reisende , die heute umfangreich mit Technik ausgestattet wären .\"                                                                                                                                                                \n",
       " \"„ Wir freuen uns , dass die FAA erkennt , dass ein angenehmes Passagiererlebnis nicht im Widerspruch zur Sicherheit steht “ , sagte Roger Dow , CEO der U.S. Travel Association .\"                                                                                                                                                                "
      ]
     },
     "execution_count": 4,
     "metadata": {},
     "output_type": "execute_result"
    }
   ],
   "source": [
    "file3 = download(\"https://nlp.stanford.edu/projects/nmt/data/wmt14.en-de/newstest2014.en\")\n",
    "file4 = download(\"https://nlp.stanford.edu/projects/nmt/data/wmt14.en-de/newstest2014.de\")\n",
    "\n",
    "test1_en = readlines(file3)\n",
    "test1_de = readlines(file4)"
   ]
  },
  {
   "cell_type": "code",
   "execution_count": 19,
   "metadata": {},
   "outputs": [
    {
     "data": {
      "text/plain": [
       "\"310-element Array{Any,1}\""
      ]
     },
     "execution_count": 19,
     "metadata": {},
     "output_type": "execute_result"
    }
   ],
   "source": [
    "function minibatch(sentences, batchsize, results)\n",
    "    table = Dict{Int,Vector{Tuple{String, String}}}()\n",
    "    data = Any[] \n",
    "       \n",
    "    index = 1\n",
    "    for sentence in sentences\n",
    "        n = length(sentence)\n",
    "        nsentences = get!(table, n, Any[])\n",
    "        push!(nsentences, (sentence, results[index]))\n",
    "        if length(nsentences) == batchsize\n",
    "            push!(data, nsentences)\n",
    "            empty!(nsentences)\n",
    "        end\n",
    "        index += 1\n",
    "    end\n",
    "    for pair in table\n",
    "        push!(data, pair[2])\n",
    "    end\n",
    "    return data\n",
    "end\n",
    "\n",
    "batchsize = 128\n",
    "train_data_en = minibatch(train1_en, batchsize, train1_de)\n",
    "test_data_en = minibatch(test1_en, batchsize, test1_de)\n",
    "summary(train_data_en)\n",
    "summary(test_data_en)"
   ]
  },
  {
   "cell_type": "code",
   "execution_count": 7,
   "metadata": {},
   "outputs": [
    {
     "data": {
      "text/plain": [
       "BLEU1gram (generic function with 1 method)"
      ]
     },
     "execution_count": 7,
     "metadata": {},
     "output_type": "execute_result"
    }
   ],
   "source": [
    "function BLEU1gram(test, ref) \n",
    "    score1 = 0\n",
    "    output = split(test, ' ')\n",
    "    reference = split(ref, ' ')\n",
    "    counts = Dict{String, Int}()\n",
    "    for i = 1:length(output)\n",
    "        if !haskey(counts, output[i])\n",
    "            counts[output[i]] = 0\n",
    "        end\n",
    "        for j = 1:length(reference)\n",
    "            if output[i] == reference[j]\n",
    "                counts[output[i]] += 1\n",
    "                break\n",
    "            end\n",
    "        end\n",
    "    end\n",
    "    for i = 1:length(reference)\n",
    "        if !haskey(counts, reference[i])\n",
    "            counts[reference[i]] = 0\n",
    "        end\n",
    "        counts[reference[i]] = min(count(x->x==reference[i], reference), counts[reference[i]] )\n",
    "    end\n",
    "    sum = 0\n",
    "    for c in counts\n",
    "        sum += c[2]\n",
    "    end\n",
    "    return score1 = sum / length(output)\n",
    "end\n"
   ]
  },
  {
   "cell_type": "code",
   "execution_count": 8,
   "metadata": {},
   "outputs": [
    {
     "data": {
      "text/plain": [
       "BLEU2gram (generic function with 1 method)"
      ]
     },
     "execution_count": 8,
     "metadata": {},
     "output_type": "execute_result"
    }
   ],
   "source": [
    "function BLEU2gram(test, ref)\n",
    "    score2 = 0\n",
    "    output = split(test, ' ')\n",
    "    reference = split(ref, ' ')\n",
    "    counts = Dict{String, Int}()\n",
    "    reference2 = []\n",
    "    for index = 1:length(reference)-1\n",
    "        push!(reference2, string(reference[index], \" \", reference[index+1]))\n",
    "    end\n",
    "    for i = 1:length(output)-1\n",
    "        str = string(output[i], \" \", output[i+1])\n",
    "        if !haskey(counts, str)\n",
    "            counts[str] = 0\n",
    "        end\n",
    "        for j = 1:length(reference)-1\n",
    "            if str == string(reference[j], \" \", reference[j+1])\n",
    "                counts[str] += 1\n",
    "                break\n",
    "            end\n",
    "        end\n",
    "    end\n",
    "    for i = 1:length(reference)-1\n",
    "        tmp = string(reference[i], \" \", reference[i+1])\n",
    "        if !haskey(counts, tmp)\n",
    "            counts[tmp] = 0\n",
    "        end\n",
    "        counts[tmp] = min(count(x->x==tmp, reference2), counts[tmp] )\n",
    "    end\n",
    "    sum = 0\n",
    "    for c in counts\n",
    "        sum += c[2]\n",
    "    end\n",
    "    return score2 = sum / (length(output)-1)\n",
    "end"
   ]
  },
  {
   "cell_type": "code",
   "execution_count": 9,
   "metadata": {},
   "outputs": [
    {
     "data": {
      "text/plain": [
       "0.2857142857142857"
      ]
     },
     "execution_count": 9,
     "metadata": {},
     "output_type": "execute_result"
    }
   ],
   "source": [
    "BLEU1gram(\"the the the the the the the\", \"the cat is on the mat\")"
   ]
  },
  {
   "cell_type": "code",
   "execution_count": 10,
   "metadata": {},
   "outputs": [
    {
     "data": {
      "text/plain": [
       "0.5"
      ]
     },
     "execution_count": 10,
     "metadata": {},
     "output_type": "execute_result"
    }
   ],
   "source": [
    "BLEU2gram(\"the cat the cat on the mat\", \"there is a cat on the mat\")"
   ]
  },
  {
   "cell_type": "code",
   "execution_count": 33,
   "metadata": {},
   "outputs": [
    {
     "data": {
      "text/plain": [
       "BLEU (generic function with 1 method)"
      ]
     },
     "execution_count": 33,
     "metadata": {},
     "output_type": "execute_result"
    }
   ],
   "source": [
    "function BLEU(test, ref) #need to add brevity, trigram and 4-gram\n",
    "    return sqrt(BLEU1gram(test, ref)) * sqrt(BLEU2gram(test, ref)) * 100\n",
    "end"
   ]
  },
  {
   "cell_type": "code",
   "execution_count": 12,
   "metadata": {},
   "outputs": [
    {
     "data": {
      "text/plain": [
       "53.45224838248488"
      ]
     },
     "execution_count": 12,
     "metadata": {},
     "output_type": "execute_result"
    }
   ],
   "source": [
    "BLEU(\"the cat the cat on the mat\", \"there is a cat on the mat\")"
   ]
  },
  {
   "cell_type": "code",
   "execution_count": 34,
   "metadata": {},
   "outputs": [
    {
     "data": {
      "text/plain": [
       "0.8180536053925345"
      ]
     },
     "execution_count": 34,
     "metadata": {},
     "output_type": "execute_result"
    }
   ],
   "source": [
    "function randomOutput(minibatch)\n",
    "    sum = 0\n",
    "    for sentencePair in minibatch\n",
    "        sum += BLEU(\"der das die den dem\", sentencePair[2])\n",
    "    end\n",
    "    return sum / length(minibatch)\n",
    "end\n",
    "\n",
    "randomOutput(train_data_en[20])\n"
   ]
  },
  {
   "cell_type": "code",
   "execution_count": null,
   "metadata": {},
   "outputs": [],
   "source": []
  }
 ],
 "metadata": {
  "kernelspec": {
   "display_name": "Julia 1.0.3 (4 threads)",
   "language": "julia",
   "name": "julia-1.0k"
  },
  "language_info": {
   "file_extension": ".jl",
   "mimetype": "application/julia",
   "name": "julia",
   "version": "1.0.3"
  }
 },
 "nbformat": 4,
 "nbformat_minor": 2
}
